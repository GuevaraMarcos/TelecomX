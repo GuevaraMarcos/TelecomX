{
  "nbformat": 4,
  "nbformat_minor": 0,
  "metadata": {
    "colab": {
      "provenance": [],
      "authorship_tag": "ABX9TyOiKixzXv2LSIhLSpxEqyoj",
      "include_colab_link": true
    },
    "kernelspec": {
      "name": "python3",
      "display_name": "Python 3"
    },
    "language_info": {
      "name": "python"
    }
  },
  "cells": [
    {
      "cell_type": "markdown",
      "metadata": {
        "id": "view-in-github",
        "colab_type": "text"
      },
      "source": [
        "<a href=\"https://colab.research.google.com/github/GuevaraMarcos/TelecomX/blob/main/Telecom%20X%202.ipynb\" target=\"_parent\"><img src=\"https://colab.research.google.com/assets/colab-badge.svg\" alt=\"Open In Colab\"/></a>"
      ]
    },
    {
      "cell_type": "markdown",
      "metadata": {
        "id": "c3b198f4"
      },
      "source": [
        "# Análisis Predictivo de Rotación de Clientes - Versión Completa y Visualmente Optimizada\n",
        "\n",
        "1. Configuración Inicial y Carga de Datos"
      ]
    },
    {
      "cell_type": "markdown",
      "metadata": {
        "id": "9584b48a"
      },
      "source": [
        "1.1. Librerías y Configuración Visual"
      ]
    },
    {
      "cell_type": "code",
      "metadata": {
        "id": "0593e3b2"
      },
      "source": [
        "# Módulos esenciales\n",
        "import pandas as pd\n",
        "import numpy as np\n",
        "import matplotlib.pyplot as plt\n",
        "import seaborn as sns\n",
        "from sklearn.model_selection import train_test_split, GridSearchCV\n",
        "from sklearn.preprocessing import RobustScaler, OneHotEncoder\n",
        "from sklearn.compose import ColumnTransformer\n",
        "from sklearn.pipeline import Pipeline\n",
        "from sklearn.metrics import (accuracy_score, precision_score, recall_score,\n",
        "                            f1_score, roc_auc_score, confusion_matrix,\n",
        "                            ConfusionMatrixDisplay, classification_report)\n",
        "from sklearn.ensemble import RandomForestClassifier, GradientBoostingClassifier\n",
        "from xgboost import XGBClassifier\n",
        "from imblearn.over_sampling import SMOTE\n",
        "from imblearn.pipeline import Pipeline as ImbPipeline\n",
        "import joblib\n",
        "import warnings\n",
        "warnings.filterwarnings('ignore')\n",
        "\n",
        "# Paleta de colores corporativa\n",
        "COLORES = {\n",
        "    'azul': '#2E86AB',\n",
        "    'rojo': '#C73E1D',\n",
        "    'verde': '#3A7D44',\n",
        "    'naranja': '#F18F01',\n",
        "    'gris': '#333333',\n",
        "    'fondo': '#F7F7F7'\n",
        "}\n",
        "\n",
        "# Configuración global de estilos\n",
        "plt.style.use('seaborn-whitegrid')\n",
        "sns.set_palette(list(COLORES.values()))\n",
        "plt.rcParams.update({\n",
        "    'figure.facecolor': COLORES['fondo'],\n",
        "    'axes.facecolor': COLORES['fondo'],\n",
        "    'axes.edgecolor': COLORES['gris'],\n",
        "    'axes.labelcolor': COLORES['gris'],\n",
        "    'text.color': COLORES['gris'],\n",
        "    'xtick.color': COLORES['gris'],\n",
        "    'ytick.color': COLORES['gris']\n",
        "})"
      ],
      "execution_count": null,
      "outputs": []
    },
    {
      "cell_type": "markdown",
      "metadata": {
        "id": "aa75ee89"
      },
      "source": [
        "1.2. Carga y Preprocesamiento de Datos"
      ]
    },
    {
      "cell_type": "code",
      "metadata": {
        "id": "b1bac691"
      },
      "source": [
        "def cargar_datos(ruta):\n",
        "    df = pd.read_csv(ruta)\n",
        "\n",
        "    # Eliminar ID único\n",
        "    df = df.drop(['customerid'], axis=1)\n",
        "\n",
        "    # Convertir booleanos a enteros\n",
        "    bool_cols = ['customer_partner', 'customer_dependents', 'account_paperlessbilling']\n",
        "    df[bool_cols] = df[bool_cols].astype(int)\n",
        "\n",
        "    # Nueva feature: ratio de gasto mensual/total\n",
        "    df['ratio_gasto'] = df['account_charges_monthly'] / (df['account_charges_total'] + 1e-6)\n",
        "\n",
        "    # Nueva feature: antigüedad ponderada por servicios\n",
        "    df['antiguedad_ponderada'] = df['customer_tenure'] * df['total_services']\n",
        "\n",
        "    return df\n",
        "\n",
        "# Cargar datos\n",
        "datos = cargar_datos('datos_tratados_telecomX.csv')"
      ],
      "execution_count": null,
      "outputs": []
    },
    {
      "cell_type": "markdown",
      "metadata": {
        "id": "567d1437"
      },
      "source": [
        "2. Análisis Exploratorio (EDA) con Visualizaciones Avanzadas"
      ]
    },
    {
      "cell_type": "markdown",
      "metadata": {
        "id": "3be1d655"
      },
      "source": [
        "2.1. Distribución de Variables Clave"
      ]
    },
    {
      "cell_type": "code",
      "metadata": {
        "id": "a3cba64d"
      },
      "source": [
        "def eda_visual(df):\n",
        "    fig, ax = plt.subplots(2, 2, figsize=(16, 12))\n",
        "\n",
        "    # Gráfico 1: Distribución de antigüedad (KDE)\n",
        "    sns.kdeplot(df['customer_tenure'], fill=True, color=COLORES['azul'], ax=ax[0,0])\n",
        "    ax[0,0].set_title('Distribución de Antigüedad (meses)', fontsize=12)\n",
        "    ax[0,0].axvline(df['customer_tenure'].mean(), color=COLORES['rojo'], linestyle='--')\n",
        "\n",
        "    # Gráfico 2: Churn por tipo de contrato (Barras apiladas)\n",
        "    pd.crosstab(df['account_contract'], df['churn']).plot(\n",
        "        kind='bar', stacked=True,\n",
        "        color=[COLORES['azul'], COLORES['rojo']],\n",
        "        ax=ax[0,1]\n",
        "    )\n",
        "    ax[0,1].set_title('Rotación por Tipo de Contrato', fontsize=12)\n",
        "\n",
        "    # Gráfico 3: Boxplot de cargos mensuales vs churn\n",
        "    sns.boxplot(x='churn', y='account_charges_monthly', data=df,\n",
        "                palette=[COLORES['azul'], COLORES['rojo']], ax=ax[1,0])\n",
        "    ax[1,0].set_title('Cargos Mensuales vs Rotación', fontsize=12)\n",
        "\n",
        "    # Gráfico 4: Correlación entre variables numéricas (Heatmap)\n",
        "    corr = df.select_dtypes(include=np.number).corr()\n",
        "    sns.heatmap(corr, annot=True, cmap='coolwarm', center=0, ax=ax[1,1])\n",
        "    ax[1,1].set_title('Matriz de Correlación', fontsize=12)\n",
        "\n",
        "    plt.tight_layout()\n",
        "    plt.show()\n",
        "\n",
        "eda_visual(datos)"
      ],
      "execution_count": null,
      "outputs": []
    },
    {
      "cell_type": "markdown",
      "metadata": {
        "id": "b679db3e"
      },
      "source": [
        "2.2. Análisis de Desbalanceo de Clases"
      ]
    },
    {
      "cell_type": "code",
      "metadata": {
        "id": "96367f9e"
      },
      "source": [
        "plt.figure(figsize=(8, 5))\n",
        "sns.countplot(x='churn', data=datos, palette=[COLORES['azul'], COLORES['rojo']])\n",
        "plt.title('Distribución de Churn (0=No, 1=Sí)', fontsize=14)\n",
        "plt.show()\n",
        "\n",
        "print(\"Proporción de clases:\")\n",
        "print(datos['churn'].value_counts(normalize=True))"
      ],
      "execution_count": null,
      "outputs": []
    },
    {
      "cell_type": "markdown",
      "metadata": {
        "id": "fab83f91"
      },
      "source": [
        "3. Preparación de Datos para Modelado"
      ]
    },
    {
      "cell_type": "markdown",
      "metadata": {
        "id": "e14aaf07"
      },
      "source": [
        "3.1. División Train-Test y Pipeline de Preprocesamiento"
      ]
    },
    {
      "cell_type": "code",
      "metadata": {
        "id": "1c43d0b9"
      },
      "source": [
        "# Definir variables\n",
        "X = datos.drop('churn', axis=1)\n",
        "y = datos['churn']\n",
        "\n",
        "# Dividir datos\n",
        "X_train, X_test, y_train, y_test = train_test_split(\n",
        "    X, y, test_size=0.2, stratify=y, random_state=42\n",
        ")\n",
        "\n",
        "# Columnas para transformación\n",
        "num_cols = ['customer_tenure', 'account_charges_monthly', 'ratio_gasto', 'antiguedad_ponderada']\n",
        "cat_cols = ['customer_gender', 'account_contract', 'account_paymentmethod']\n",
        "\n",
        "# Pipeline de preprocesamiento\n",
        "preprocessor = ColumnTransformer(\n",
        "    transformers=[\n",
        "        ('num', RobustScaler(), num_cols),\n",
        "        ('cat', OneHotEncoder(drop='first'), cat_cols)\n",
        "    ],\n",
        "    remainder='passthrough'\n",
        ")\n",
        "\n",
        "# Pipeline completo con SMOTE para balanceo\n",
        "pipeline = ImbPipeline([\n",
        "    ('preprocessor', preprocessor),\n",
        "    ('smote', SMOTE(random_state=42)),\n",
        "    ('classifier', RandomForestClassifier(random_state=42))\n",
        "])"
      ],
      "execution_count": null,
      "outputs": []
    },
    {
      "cell_type": "markdown",
      "metadata": {
        "id": "636b586a"
      },
      "source": [
        "4. Modelado y Optimización"
      ]
    },
    {
      "cell_type": "markdown",
      "metadata": {
        "id": "f3d02dec"
      },
      "source": [
        "4.1. Entrenamiento y Evaluación de Modelos"
      ]
    },
    {
      "cell_type": "code",
      "metadata": {
        "id": "dea5c121"
      },
      "source": [
        "# Definición de modelos y parámetros\n",
        "modelos = {\n",
        "    'RandomForest': {\n",
        "        'model': RandomForestClassifier(random_state=42),\n",
        "        'params': {\n",
        "            'classifier__n_estimators': [100, 200],\n",
        "            'classifier__max_depth': [5, 10, None],\n",
        "            'classifier__min_samples_split': [2, 5]\n",
        "        }\n",
        "    },\n",
        "    'XGBoost': {\n",
        "        'model': XGBClassifier(random_state=42, eval_metric='logloss'),\n",
        "        'params': {\n",
        "            'classifier__learning_rate': [0.01, 0.1],\n",
        "            'classifier__max_depth': [3, 5],\n",
        "            'classifier__subsample': [0.8, 1.0]\n",
        "        }\n",
        "    }\n",
        "}\n",
        "\n",
        "# Entrenamiento y evaluación\n",
        "resultados = {}\n",
        "for nombre, config in modelos.items():\n",
        "    pipeline.set_params(classifier=config['model'])\n",
        "\n",
        "    grid = GridSearchCV(\n",
        "        pipeline,\n",
        "        config['params'],\n",
        "        cv=5,\n",
        "        scoring='f1',\n",
        "        n_jobs=-1,\n",
        "        verbose=1\n",
        "    )\n",
        "\n",
        "    grid.fit(X_train, y_train)\n",
        "    y_pred = grid.best_estimator_.predict(X_test)\n",
        "\n",
        "    resultados[nombre] = {\n",
        "        'model': grid.best_estimator_,\n",
        "        'metrics': {\n",
        "            'accuracy': accuracy_score(y_test, y_pred),\n",
        "            'precision': precision_score(y_test, y_pred),\n",
        "            'recall': recall_score(y_test, y_pred),\n",
        "            'f1': f1_score(y_test, y_pred),\n",
        "            'roc_auc': roc_auc_score(y_test, y_pred)\n",
        "        },\n",
        "        'best_params': grid.best_params_\n",
        "    }\n",
        "\n",
        "    print(f\"\\n🔹 Resultados para {nombre}:\")\n",
        "    print(f\"Mejores parámetros: {grid.best_params_}\")\n",
        "    print(classification_report(y_test, y_pred))"
      ],
      "execution_count": null,
      "outputs": []
    },
    {
      "cell_type": "markdown",
      "metadata": {
        "id": "fbe9dbed"
      },
      "source": [
        "4.2. Visualización de Resultados"
      ]
    },
    {
      "cell_type": "code",
      "metadata": {
        "id": "8299402c"
      },
      "source": [
        "# Dataframe comparativo\n",
        "df_resultados = pd.DataFrame.from_dict(\n",
        "    {k: v['metrics'] for k, v in resultados.items()},\n",
        "    orient='index'\n",
        ")\n",
        "\n",
        "# Gráfico de comparación\n",
        "df_resultados.plot(kind='bar', figsize=(12, 6), color=[COLORES['azul'], COLORES['verde'], COLORES['naranja'], COLORES['rojo']])\n",
        "plt.title('Comparación de Modelos', fontsize=14)\n",
        "plt.ylabel('Score')\n",
        "plt.xticks(rotation=0)\n",
        "plt.legend(loc='lower right')\n",
        "plt.show()\n",
        "\n",
        "# Matriz de confusión del mejor modelo\n",
        "mejor_modelo = resultados['XGBoost']['model']\n",
        "ConfusionMatrixDisplay.from_estimator(mejor_modelo, X_test, y_test, cmap='Blues')\n",
        "plt.title('Matriz de Confusión - XGBoost')\n",
        "plt.show()"
      ],
      "execution_count": null,
      "outputs": []
    },
    {
      "cell_type": "markdown",
      "metadata": {
        "id": "725aaafe"
      },
      "source": [
        "5. Interpretación y Despliegue"
      ]
    },
    {
      "cell_type": "markdown",
      "metadata": {
        "id": "af4f1631"
      },
      "source": [
        "5.1. Importancia de Características"
      ]
    },
    {
      "cell_type": "code",
      "metadata": {
        "id": "f970a0bf"
      },
      "source": [
        "# Obtener nombres de features\n",
        "cat_encoder = mejor_modelo.named_steps['preprocessor'].named_transformers_['cat']\n",
        "cat_features = cat_encoder.get_feature_names_out(cat_cols)\n",
        "all_features = num_cols + list(cat_features) + [col for col in X.columns if col not in num_cols+cat_cols]\n",
        "\n",
        "# Importancia para XGBoost\n",
        "if hasattr(mejor_modelo.named_steps['classifier'], 'feature_importances_'):\n",
        "    importancia = mejor_modelo.named_steps['classifier'].feature_importances_\n",
        "    df_importancia = pd.DataFrame({'Feature': all_features, 'Importance': importancia})\n",
        "    df_importancia = df_importancia.sort_values('Importance', ascending=False).head(10)\n",
        "\n",
        "    plt.figure(figsize=(10, 6))\n",
        "    sns.barplot(x='Importance', y='Feature', data=df_importancia, palette='viridis')\n",
        "    plt.title('Top 10 Características Más Importantes', fontsize=14)\n",
        "    plt.show()"
      ],
      "execution_count": null,
      "outputs": []
    },
    {
      "cell_type": "markdown",
      "metadata": {
        "id": "8903ce44"
      },
      "source": [
        "5.2. Serialización del Modelo"
      ]
    },
    {
      "cell_type": "code",
      "metadata": {
        "id": "a7f84977"
      },
      "source": [
        "# Guardar modelo y metadatos\n",
        "paquete_modelo = {\n",
        "    'model': mejor_modelo,\n",
        "    'features': all_features,\n",
        "    'metrics': resultados['XGBoost']['metrics'],\n",
        "    'version': '1.0'\n",
        "}\n",
        "\n",
        "try:\n",
        "    joblib.dump(paquete_modelo, 'modelo_churn_telecom.pkl')\n",
        "    print(\"✅ Modelo guardado correctamente\")\n",
        "except Exception as e:\n",
        "    print(f\"❌ Error al guardar: {str(e)}\")"
      ],
      "execution_count": null,
      "outputs": []
    },
    {
      "cell_type": "markdown",
      "metadata": {
        "id": "1b45e5ee"
      },
      "source": [
        "6. Dashboard de Monitoreo (Simulación)"
      ]
    },
    {
      "cell_type": "code",
      "metadata": {
        "id": "86ec2840"
      },
      "source": [
        "def crear_dashboard():\n",
        "    fig = plt.figure(figsize=(18, 10), facecolor=COLORES['fondo'])\n",
        "    fig.suptitle('Panel de Monitoreo - Predicción de Churn', fontsize=16)\n",
        "\n",
        "    # KPI 1: Tasa de rotación\n",
        "    ax1 = plt.subplot2grid((3, 3), (0, 0))\n",
        "    ax1.text(0.5, 0.7, \"27.3%\", fontsize=32, ha='center', color=COLORES['rojo'])\n",
        "    ax1.text(0.5, 0.4, \"Tasa de Rotación\", fontsize=14, ha='center')\n",
        "    ax1.axis('off')\n",
        "\n",
        "    # KPI 2: Exactitud del modelo\n",
        "    ax2 = plt.subplot2grid((3, 3), (0, 1))\n",
        "    ax2.text(0.5, 0.7, \"82.1%\", fontsize=32, ha='center', color=COLORES['verde'])\n",
        "    ax2.text(0.5, 0.4, \"Exactitud del Modelo\", fontsize=14, ha='center')\n",
        "    ax2.axis('off')\n",
        "\n",
        "    # Gráfico 3: Tendencia semanal\n",
        "    ax3 = plt.subplot2grid((3, 3), (1, 0), colspan=2)\n",
        "    ax3.plot(['Lun', 'Mar', 'Mié', 'Jue', 'Vie'], [45, 52, 60, 48, 55], marker='o', color=COLORES['azul'])\n",
        "    ax3.set_title('Clientes en Riesgo (Últimos 5 días)')\n",
        "    ax3.grid(True, linestyle='--', alpha=0.6)\n",
        "\n",
        "    # Gráfico 4: Distribución de riesgo\n",
        "    ax4 = plt.subplot2grid((3, 3), (0, 2), rowspan=2)\n",
        "    ax4.pie([35, 50, 15], labels=['Alto', 'Moderado', 'Bajo'],\n",
        "            colors=[COLORES['rojo'], COLORES['naranja'], COLORES['verde']],\n",
        "            autopct='%1.1f%%')\n",
        "    ax4.set_title('Distribución de Riesgo')\n",
        "\n",
        "    # Alertas\n",
        "    ax5 = plt.subplot2grid((3, 3), (2, 0), colspan=3)\n",
        "    ax5.text(0.1, 0.8, \"⚠ Aumento del 15% en clientes riesgo alto\", color=COLORES['rojo'], fontsize=12)\n",
        "    ax5.text(0.1, 0.5, \"ℹ Nuevo patrón detectado en clientes con >2 servicios\", color=COLORES['azul'], fontsize=12)\n",
        "    ax5.axis('off')\n",
        "\n",
        "    plt.tight_layout()\n",
        "    plt.show()\n",
        "\n",
        "crear_dashboard()"
      ],
      "execution_count": null,
      "outputs": []
    }
  ]
}